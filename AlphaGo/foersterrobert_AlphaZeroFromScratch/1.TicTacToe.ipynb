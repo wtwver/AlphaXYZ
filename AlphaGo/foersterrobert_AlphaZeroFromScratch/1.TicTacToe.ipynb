{
 "cells": [
  {
   "cell_type": "code",
   "execution_count": 4,
   "id": "91853e2b",
   "metadata": {},
   "outputs": [],
   "source": [
    "import numpy as np\n",
    "import sys\n",
    "import os\n",
    "sys.path.append(os.path.abspath('..'))\n",
    "from game.tictactoe import TicTacToe"
   ]
  },
  {
   "cell_type": "code",
   "execution_count": 5,
   "id": "bc112e57",
   "metadata": {},
   "outputs": [
    {
     "name": "stdout",
     "output_type": "stream",
     "text": [
      "[[0. 0. 0.]\n",
      " [0. 0. 0.]\n",
      " [0. 0. 0.]]\n",
      "valid_moves [0, 1, 2, 3, 4, 5, 6, 7, 8]\n",
      "[[0. 1. 0.]\n",
      " [0. 0. 0.]\n",
      " [0. 0. 0.]]\n",
      "valid_moves [0, 2, 3, 4, 5, 6, 7, 8]\n",
      "[[ 0.  1. -1.]\n",
      " [ 0.  0.  0.]\n",
      " [ 0.  0.  0.]]\n",
      "valid_moves [0, 3, 4, 5, 6, 7, 8]\n",
      "[[ 0.  1. -1.]\n",
      " [ 1.  0.  0.]\n",
      " [ 0.  0.  0.]]\n",
      "valid_moves [0, 4, 5, 6, 7, 8]\n",
      "[[ 0.  1. -1.]\n",
      " [ 1. -1.  0.]\n",
      " [ 0.  0.  0.]]\n",
      "valid_moves [0, 5, 6, 7, 8]\n",
      "action not valid\n",
      "[[ 0.  1. -1.]\n",
      " [ 1. -1.  0.]\n",
      " [ 0.  0.  0.]]\n",
      "valid_moves [0, 5, 6, 7, 8]\n",
      "action not valid\n",
      "[[ 0.  1. -1.]\n",
      " [ 1. -1.  0.]\n",
      " [ 0.  0.  0.]]\n",
      "valid_moves [0, 5, 6, 7, 8]\n",
      "action not valid\n",
      "[[ 0.  1. -1.]\n",
      " [ 1. -1.  0.]\n",
      " [ 0.  0.  0.]]\n",
      "valid_moves [0, 5, 6, 7, 8]\n",
      "action not valid\n",
      "[[ 0.  1. -1.]\n",
      " [ 1. -1.  0.]\n",
      " [ 0.  0.  0.]]\n",
      "valid_moves [0, 5, 6, 7, 8]\n",
      "action not valid\n",
      "[[ 0.  1. -1.]\n",
      " [ 1. -1.  0.]\n",
      " [ 0.  0.  0.]]\n",
      "valid_moves [0, 5, 6, 7, 8]\n",
      "[[ 0.  1. -1.]\n",
      " [ 1. -1.  1.]\n",
      " [ 0.  0.  0.]]\n",
      "valid_moves [0, 6, 7, 8]\n",
      "[[ 0.  1. -1.]\n",
      " [ 1. -1.  1.]\n",
      " [-1.  0.  0.]]\n",
      "-1 won\n"
     ]
    }
   ],
   "source": [
    "tictactoe = TicTacToe()\n",
    "player = 1\n",
    "\n",
    "state = tictactoe.get_initial_state()\n",
    "\n",
    "while True:\n",
    "    print(state)\n",
    "    valid_moves = tictactoe.get_valid_moves(state)\n",
    "    print(\"valid_moves\", [i for i in range(tictactoe.action_size) if valid_moves[i] == 1])\n",
    "    action = int(input(f\"{player}:\"))\n",
    "    \n",
    "    if valid_moves[action] == 0:\n",
    "        print(\"action not valid\")\n",
    "        continue\n",
    "        \n",
    "    state = tictactoe.get_next_state(state, action, player)\n",
    "    \n",
    "    value, is_terminal = tictactoe.get_value_and_terminated(state, action)\n",
    "    \n",
    "    if is_terminal:\n",
    "        print(state)\n",
    "        if value == 1:\n",
    "            print(player, \"won\")\n",
    "        else:\n",
    "            print(\"draw\")\n",
    "        break\n",
    "        \n",
    "    player = tictactoe.get_opponent(player)\n",
    "\n"
   ]
  }
 ],
 "metadata": {
  "kernelspec": {
   "display_name": ".venv",
   "language": "python",
   "name": "python3"
  },
  "language_info": {
   "codemirror_mode": {
    "name": "ipython",
    "version": 3
   },
   "file_extension": ".py",
   "mimetype": "text/x-python",
   "name": "python",
   "nbconvert_exporter": "python",
   "pygments_lexer": "ipython3",
   "version": "3.12.7"
  }
 },
 "nbformat": 4,
 "nbformat_minor": 5
}
